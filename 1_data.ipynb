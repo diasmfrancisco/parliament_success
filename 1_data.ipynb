{
 "cells": [
  {
   "cell_type": "markdown",
   "metadata": {},
   "source": [
    "> __CHANGE IF NEED BE__"
   ]
  },
  {
   "cell_type": "code",
   "execution_count": 1,
   "metadata": {},
   "outputs": [],
   "source": [
    "data_source = \"/home/boturon/proj/git/parlamento/data/\"\n",
    "parliament_count = [\"02\", \"03\", \"04\", \"05\", \"06\", \"07\", \"08\", \"09\", \"10\", \"11\", \"12\", \"13\"]"
   ]
  },
  {
   "cell_type": "markdown",
   "metadata": {},
   "source": [
    "________"
   ]
  },
  {
   "cell_type": "markdown",
   "metadata": {},
   "source": [
    "__ Dependencies __"
   ]
  },
  {
   "cell_type": "code",
   "execution_count": 2,
   "metadata": {},
   "outputs": [],
   "source": [
    "import pandas as pd\n",
    "import json"
   ]
  },
  {
   "cell_type": "markdown",
   "metadata": {},
   "source": [
    "<br>"
   ]
  },
  {
   "cell_type": "markdown",
   "metadata": {},
   "source": [
    "# Biographic Information"
   ]
  },
  {
   "cell_type": "markdown",
   "metadata": {},
   "source": [
    "__ Variables __"
   ]
  },
  {
   "cell_type": "code",
   "execution_count": 3,
   "metadata": {},
   "outputs": [],
   "source": [
    "col_names_label_bio = [\"id\", \"name\", \"gender\", \"profession_law\", \"legislatures_count\", \"legislatures_last\", \"party_last\", \"district_last\"]"
   ]
  },
  {
   "cell_type": "markdown",
   "metadata": {},
   "source": [
    "__ Functions __"
   ]
  },
  {
   "cell_type": "code",
   "execution_count": 4,
   "metadata": {},
   "outputs": [],
   "source": [
    "def table_bio(source):\n",
    "    # create DataFrame for parlamentarians\n",
    "    df_bio = pd.DataFrame(index = col_names_label_bio)\n",
    "    \n",
    "    # start index\n",
    "    row = 0\n",
    "    \n",
    "    for count in parliament_count:\n",
    "        # open file\n",
    "        data_parlamentarians = json.loads(open(source+\"registo-biografico-\"+count+\".json\").read())\n",
    "        \n",
    "        for parlamentarian in data_parlamentarians[\"RegistoBiografico\"][\"RegistoBiograficoList\"][\"pt_ar_wsgode_objectos_DadosRegistoBiograficoWeb\"]:\n",
    "            # index\n",
    "            row += 1\n",
    "            \n",
    "            # get data for each label\n",
    "            parlamentarian_id = parlamentarian[\"cadId\"]\n",
    "            parlamentarian_name = parlamentarian[\"cadNomeCompleto\"]\n",
    "            parlamentarian_gender = parlamentarian[\"cadSexo\"]\n",
    "            \n",
    "            # dummy for law related jobs\n",
    "            if  parlamentarian.get(\"cadProfissao\", \"None\").lower() in [\"jurista\", \"advogado\", \"advogada\"]:\n",
    "                parlamentarian_profession_law = 1\n",
    "            else:\n",
    "                parlamentarian_profession_law = 0\n",
    "            \n",
    "            legislatures = parlamentarian[\"cadDeputadoLegis\"][\"pt_ar_wsgode_objectos_DadosDeputadoLegis\"]\n",
    "            \n",
    "            # deal with one-time parlamentarians\n",
    "            if type(legislatures) == dict:\n",
    "                legislatures_count = 1\n",
    "                legislatures_last = legislatures[\"legDes\"]\n",
    "                party_last = legislatures[\"gpSigla\"]\n",
    "                district_last = legislatures[\"ceDes\"]\n",
    "            else:\n",
    "                legislatures_count = len(legislatures)\n",
    "                legislatures_last = legislatures[0][\"legDes\"]\n",
    "                party_last = legislatures[0][\"gpSigla\"]\n",
    "                district_last = legislatures[0][\"ceDes\"]\n",
    "                \n",
    "            # add parlamentarian information to table\n",
    "            df_bio[row] = [parlamentarian_id, parlamentarian_name, parlamentarian_gender, parlamentarian_profession_law, legislatures_count, legislatures_last, party_last, district_last]\n",
    "    \n",
    "    return(df_bio.transpose())"
   ]
  },
  {
   "cell_type": "markdown",
   "metadata": {},
   "source": [
    "__ Output __"
   ]
  },
  {
   "cell_type": "code",
   "execution_count": 5,
   "metadata": {
    "scrolled": true
   },
   "outputs": [
    {
     "data": {
      "text/html": [
       "<div>\n",
       "<style scoped>\n",
       "    .dataframe tbody tr th:only-of-type {\n",
       "        vertical-align: middle;\n",
       "    }\n",
       "\n",
       "    .dataframe tbody tr th {\n",
       "        vertical-align: top;\n",
       "    }\n",
       "\n",
       "    .dataframe thead th {\n",
       "        text-align: right;\n",
       "    }\n",
       "</style>\n",
       "<table border=\"1\" class=\"dataframe\">\n",
       "  <thead>\n",
       "    <tr style=\"text-align: right;\">\n",
       "      <th></th>\n",
       "      <th>id</th>\n",
       "      <th>name</th>\n",
       "      <th>gender</th>\n",
       "      <th>profession_law</th>\n",
       "      <th>legislatures_count</th>\n",
       "      <th>legislatures_last</th>\n",
       "      <th>party_last</th>\n",
       "      <th>district_last</th>\n",
       "    </tr>\n",
       "  </thead>\n",
       "  <tbody>\n",
       "    <tr>\n",
       "      <th>4362</th>\n",
       "      <td>1743</td>\n",
       "      <td>ULISSES MANUEL BRANDÃO PEREIRA</td>\n",
       "      <td>M</td>\n",
       "      <td>0</td>\n",
       "      <td>3</td>\n",
       "      <td>XIII</td>\n",
       "      <td>PSD</td>\n",
       "      <td>AVEIRO</td>\n",
       "    </tr>\n",
       "    <tr>\n",
       "      <th>4363</th>\n",
       "      <td>4402</td>\n",
       "      <td>VÂNIA CARVALHO DIAS DA SILVA DE ANTAS DE BARROS</td>\n",
       "      <td>F</td>\n",
       "      <td>0</td>\n",
       "      <td>1</td>\n",
       "      <td>XIII</td>\n",
       "      <td>CDS-PP</td>\n",
       "      <td>BRAGA</td>\n",
       "    </tr>\n",
       "    <tr>\n",
       "      <th>4364</th>\n",
       "      <td>1867</td>\n",
       "      <td>JOSÉ ANTÓNIO FONSECA VIEIRA DA SILVA</td>\n",
       "      <td>M</td>\n",
       "      <td>0</td>\n",
       "      <td>4</td>\n",
       "      <td>XIII</td>\n",
       "      <td>PS</td>\n",
       "      <td>SANTARÉM</td>\n",
       "    </tr>\n",
       "    <tr>\n",
       "      <th>4365</th>\n",
       "      <td>1700</td>\n",
       "      <td>VITALINO JOSÉ FERREIRA PROVA CANAS</td>\n",
       "      <td>M</td>\n",
       "      <td>0</td>\n",
       "      <td>5</td>\n",
       "      <td>XIII</td>\n",
       "      <td>PS</td>\n",
       "      <td>LISBOA</td>\n",
       "    </tr>\n",
       "    <tr>\n",
       "      <th>4366</th>\n",
       "      <td>466</td>\n",
       "      <td>WANDA OLAVO CORREA D'AZEVEDO GUIMARÃES</td>\n",
       "      <td>F</td>\n",
       "      <td>0</td>\n",
       "      <td>1</td>\n",
       "      <td>XIII</td>\n",
       "      <td>PS</td>\n",
       "      <td>LISBOA</td>\n",
       "    </tr>\n",
       "  </tbody>\n",
       "</table>\n",
       "</div>"
      ],
      "text/plain": [
       "        id                                             name gender  \\\n",
       "4362  1743                   ULISSES MANUEL BRANDÃO PEREIRA      M   \n",
       "4363  4402  VÂNIA CARVALHO DIAS DA SILVA DE ANTAS DE BARROS      F   \n",
       "4364  1867             JOSÉ ANTÓNIO FONSECA VIEIRA DA SILVA      M   \n",
       "4365  1700               VITALINO JOSÉ FERREIRA PROVA CANAS      M   \n",
       "4366   466           WANDA OLAVO CORREA D'AZEVEDO GUIMARÃES      F   \n",
       "\n",
       "     profession_law legislatures_count legislatures_last party_last  \\\n",
       "4362              0                  3              XIII        PSD   \n",
       "4363              0                  1              XIII     CDS-PP   \n",
       "4364              0                  4              XIII         PS   \n",
       "4365              0                  5              XIII         PS   \n",
       "4366              0                  1              XIII         PS   \n",
       "\n",
       "     district_last  \n",
       "4362        AVEIRO  \n",
       "4363         BRAGA  \n",
       "4364      SANTARÉM  \n",
       "4365        LISBOA  \n",
       "4366        LISBOA  "
      ]
     },
     "execution_count": 5,
     "metadata": {},
     "output_type": "execute_result"
    }
   ],
   "source": [
    "table_bio(data_source).tail()"
   ]
  },
  {
   "cell_type": "markdown",
   "metadata": {},
   "source": [
    "________"
   ]
  },
  {
   "cell_type": "markdown",
   "metadata": {},
   "source": [
    "# Initiatives"
   ]
  },
  {
   "cell_type": "markdown",
   "metadata": {},
   "source": [
    "__ Variables __"
   ]
  },
  {
   "cell_type": "code",
   "execution_count": 13,
   "metadata": {},
   "outputs": [],
   "source": [
    "col_names_label_init = [\"init_id\", \"init_year_end\", \"init_type\", \"authors_count\"]"
   ]
  },
  {
   "cell_type": "markdown",
   "metadata": {},
   "source": [
    "__ Functions __"
   ]
  },
  {
   "cell_type": "code",
   "execution_count": 16,
   "metadata": {},
   "outputs": [],
   "source": [
    "def table_init(source):\n",
    "    # create DataFrame for parlamentarians\n",
    "    df_init = pd.DataFrame(index = col_names_label_init)\n",
    "    \n",
    "    # start index\n",
    "    row = 0\n",
    "    \n",
    "    for count in parliament_count:\n",
    "        # open file\n",
    "        data_initiatives = json.loads(open(source+\"iniciativas-\"+count+\".json\").read())\n",
    "            \n",
    "        for initiative in data_initiatives[\"ArrayOfPt_gov_ar_objectos_iniciativas_DetalhePesquisaIniciativasOut\"][\"pt_gov_ar_objectos_iniciativas_DetalhePesquisaIniciativasOut\"]:\n",
    "                              \n",
    "            # get data for each label\n",
    "            init_id = initiative[\"iniId\"]\n",
    "            init_type = initiative[\"iniDescTipo\"]\n",
    "            \n",
    "            authors = initiative[\"iniAutorDeputados\"][\"pt_gov_ar_objectos_iniciativas_AutoresDeputadosOut\"]\n",
    "            print(authors, row)\n",
    "            if type(authors) == dict:\n",
    "                authors_count = 1\n",
    "            else:\n",
    "                authors_count = len(authors)\n",
    "                \n",
    "            # only add if initiative is finished\n",
    "            try:\n",
    "                # index\n",
    "                row += 1\n",
    "                # Final year\n",
    "                init_year_end = int(initiative[\"dataFimleg\"][0:4])\n",
    "                # add parlamentarian information to table\n",
    "                df_init[row] = [init_id, init_year_end, init_type, authors_count]\n",
    "            except KeyError:\n",
    "                continue\n",
    "                        \n",
    "    return(df_init.transpose())"
   ]
  },
  {
   "cell_type": "markdown",
   "metadata": {},
   "source": [
    "__ Output __"
   ]
  },
  {
   "cell_type": "code",
   "execution_count": 17,
   "metadata": {
    "scrolled": false
   },
   "outputs": [
    {
     "name": "stdout",
     "output_type": "stream",
     "text": [
      "[{'idCadastro': '2126', 'nome': 'Zita Seabra', 'GP': 'PCP'}, {'idCadastro': '3020', 'nome': 'JOSÉ MANUEL MENDES', 'GP': 'PCP'}, {'idCadastro': '2948', 'nome': 'Carlos Alfredo Brito', 'GP': 'PCP'}, {'idCadastro': '3377', 'nome': 'Álvaro Oliveira', 'GP': 'PCP'}, {'idCadastro': '3176', 'nome': 'ALDA NOGUEIRA', 'GP': 'PCP'}, {'idCadastro': '210', 'nome': 'Jerónimo de Sousa', 'GP': 'PCP'}, {'idCadastro': '3380', 'nome': 'MANUEL LOPES', 'GP': 'PCP'}, {'idCadastro': '569', 'nome': 'Ilda Figueiredo', 'GP': 'PCP'}, {'idCadastro': '1521', 'nome': 'Vital Moreira', 'GP': 'PCP'}, {'idCadastro': '3385', 'nome': 'Lino Carvalho Lima', 'GP': 'PCP'}, {'idCadastro': '3628', 'nome': 'Armando Teixeira Silva', 'GP': 'PCP'}] 0\n",
      "[{'idCadastro': '3263', 'nome': 'Borges de Carvalho', 'GP': 'PPM'}, {'idCadastro': '3199', 'nome': 'Gonçalo Ribeiro Telles', 'GP': 'PPM'}, {'idCadastro': '3556', 'nome': 'Henrique Barrilaro Ruas', 'GP': 'PPM'}, {'idCadastro': '3595', 'nome': 'António Cardoso Moniz', 'GP': 'PPM'}, {'idCadastro': '3553', 'nome': 'Luis  Coimbra', 'GP': 'PPM'}] 1\n",
      "{'idCadastro': '3471', 'nome': 'João Mendes', 'GP': 'PSD'} 2\n",
      "[{'idCadastro': '210', 'nome': 'Jerónimo de Sousa', 'GP': 'PCP'}, {'idCadastro': '807', 'nome': 'ANTÓNIO MOTA', 'GP': 'PCP'}, {'idCadastro': '219', 'nome': 'Odete Santos', 'GP': 'PCP'}, {'idCadastro': '2948', 'nome': 'Carlos Alfredo Brito', 'GP': 'PCP'}] 3\n",
      "[{'idCadastro': '807', 'nome': 'ANTÓNIO MOTA', 'GP': 'PCP'}, {'idCadastro': '3385', 'nome': 'Lino Carvalho Lima', 'GP': 'PCP'}, {'idCadastro': '2948', 'nome': 'Carlos Alfredo Brito', 'GP': 'PCP'}, {'idCadastro': '569', 'nome': 'Ilda Figueiredo', 'GP': 'PCP'}] 4\n",
      "[{'idCadastro': '2933', 'nome': 'António Esteves', 'GP': 'PS'}, {'idCadastro': '196', 'nome': 'LUÍS FILIPE MADEIRA', 'GP': 'PS'}, {'idCadastro': '3523', 'nome': 'Júlio Carrapato', 'GP': 'PS'}] 5\n",
      "[{'idCadastro': '3512', 'nome': 'Vergílio Rodrigues', 'GP': 'PS'}, {'idCadastro': '3540', 'nome': 'Luis César Almeida', 'GP': 'PS'}, {'idCadastro': '3508', 'nome': 'Trindade Reis', 'GP': 'PS'}, {'idCadastro': '3544', 'nome': 'António Vieira Freitas', 'GP': 'PS'}, {'idCadastro': '418', 'nome': 'António Magalhães', 'GP': 'PS'}, {'idCadastro': '160', 'nome': 'Carlos Lage', 'GP': 'PS'}] 6\n",
      "[{'idCadastro': '3069', 'nome': 'Reinaldo Gomes', 'GP': 'PSD'}, {'idCadastro': '261', 'nome': 'Fernando Costa', 'GP': 'PSD'}, {'idCadastro': '3470', 'nome': 'Fernando Fleming de Oliveira', 'GP': 'PSD'}, {'idCadastro': '3471', 'nome': 'João Mendes', 'GP': 'PSD'}, {'idCadastro': '81', 'nome': 'Silva Marques', 'GP': 'PSD'}, {'idCadastro': '3275', 'nome': 'José Gago Vitorino', 'GP': 'PSD'}, {'idCadastro': '3496', 'nome': 'Maria da Glória Duarte', 'GP': 'PSD'}] 7\n",
      "[{'idCadastro': '3263', 'nome': 'Borges de Carvalho', 'GP': 'PPM'}, {'idCadastro': '3595', 'nome': 'António Cardoso Moniz', 'GP': 'PPM'}, {'idCadastro': '3553', 'nome': 'Luis  Coimbra', 'GP': 'PPM'}, {'idCadastro': '3582', 'nome': 'Jorge Portugal da Silveira', 'GP': 'PPM'}] 8\n",
      "{'idCadastro': '282', 'nome': 'Cipriano Martins', 'GP': 'PSD'} 9\n",
      "[{'idCadastro': '2906', 'nome': 'Afonso Moura Guedes', 'GP': 'PSD'}, {'idCadastro': '3570', 'nome': 'Francisco Oliveira Dias', 'GP': 'CDS'}, {'idCadastro': '3263', 'nome': 'Borges de Carvalho', 'GP': 'PPM'}] 10\n",
      "{'idCadastro': '234', 'nome': 'Carlos Candal', 'GP': 'PS'} 11\n",
      "[{'idCadastro': '3549', 'nome': 'Maria José Sampaio', 'GP': 'CDS'}, {'idCadastro': '3100', 'nome': 'Carlos Oliveira e Sousa', 'GP': 'CDS'}] 12\n",
      "[{'idCadastro': '196', 'nome': 'LUÍS FILIPE MADEIRA', 'GP': 'PS'}, {'idCadastro': '3547', 'nome': 'João Vieira Lima', 'GP': 'PS'}, {'idCadastro': '3523', 'nome': 'Júlio Carrapato', 'GP': 'PS'}, {'idCadastro': '3181', 'nome': 'Teófilo Santos', 'GP': 'PS'}, {'idCadastro': '2933', 'nome': 'António Esteves', 'GP': 'PS'}, {'idCadastro': '458', 'nome': 'Jorge Sampaio', 'GP': 'PS'}, {'idCadastro': '3245', 'nome': 'Armando Lopes', 'GP': 'PS'}, {'idCadastro': '3200', 'nome': 'Luís Saias', 'GP': 'PS'}, {'idCadastro': '1711', 'nome': 'Alberto Antunes', 'GP': 'PS'}, {'idCadastro': '234', 'nome': 'Carlos Candal', 'GP': 'PS'}, {'idCadastro': '3053', 'nome': 'Mário Cal Brandão', 'GP': 'PS'}] 13\n",
      "[{'idCadastro': '3525', 'nome': 'Guilherme Santos', 'GP': 'PS'}, {'idCadastro': '3182', 'nome': 'Alfredo Barroso', 'GP': 'PS'}, {'idCadastro': '3515', 'nome': 'Fernando Vieira', 'GP': 'PS'}] 14\n",
      "[{'idCadastro': '3525', 'nome': 'Guilherme Santos', 'GP': 'PS'}, {'idCadastro': '3515', 'nome': 'Fernando Vieira', 'GP': 'PS'}] 15\n",
      "[{'idCadastro': '3525', 'nome': 'Guilherme Santos', 'GP': 'PS'}, {'idCadastro': '3515', 'nome': 'Fernando Vieira', 'GP': 'PS'}] 16\n",
      "[{'idCadastro': '3525', 'nome': 'Guilherme Santos', 'GP': 'PS'}, {'idCadastro': '3515', 'nome': 'Fernando Vieira', 'GP': 'PS'}] 17\n",
      "[{'idCadastro': '2126', 'nome': 'Zita Seabra', 'GP': 'PCP'}, {'idCadastro': '3082', 'nome': 'Vidigal Amaro', 'GP': 'PCP'}, {'idCadastro': '219', 'nome': 'Odete Santos', 'GP': 'PCP'}, {'idCadastro': '3007', 'nome': 'Jorge Lemos', 'GP': 'PCP'}, {'idCadastro': '3225', 'nome': 'Jorge Patrício', 'GP': 'PCP'}, {'idCadastro': '569', 'nome': 'Ilda Figueiredo', 'GP': 'PCP'}, {'idCadastro': '3631', 'nome': 'Ercilia Talhadas', 'GP': 'PCP'}, {'idCadastro': '3378', 'nome': 'Georgette Ferreira', 'GP': 'PCP'}, {'idCadastro': '2948', 'nome': 'Carlos Alfredo Brito', 'GP': 'PCP'}] 18\n",
      "[{'idCadastro': '26', 'nome': 'Arménio Santos', 'GP': 'PSD'}, {'idCadastro': '3280', 'nome': 'Leonel Santa Rita', 'GP': 'PSD'}, {'idCadastro': '3483', 'nome': 'José Manuel Barradas', 'GP': 'PSD'}, {'idCadastro': '3460', 'nome': 'Carlos Pereira Pinho', 'GP': 'PSD'}] 19\n",
      "[{'idCadastro': '3239', 'nome': 'Amândio Azevedo', 'GP': 'PSD'}, {'idCadastro': '2967', 'nome': 'Daniel Bastos', 'GP': 'PSD'}, {'idCadastro': '3496', 'nome': 'Maria da Glória Duarte', 'GP': 'PSD'}, {'idCadastro': '3497', 'nome': 'Joaquim Pinto', 'GP': 'PSD'}] 20\n",
      "{'idCadastro': '3054', 'nome': 'Mário Raposo', 'GP': 'PSD'} 21\n",
      "[{'idCadastro': '3036', 'nome': 'MAGALHÃES MOTA', 'GP': 'ASDI'}, {'idCadastro': '3347', 'nome': 'VILHENA DE CARVALHO', 'GP': 'ASDI'}] 22\n",
      "[{'idCadastro': '3261', 'nome': 'Fernando Carvalho', 'GP': 'ASDI'}, {'idCadastro': '3036', 'nome': 'MAGALHÃES MOTA', 'GP': 'ASDI'}, {'idCadastro': '3347', 'nome': 'VILHENA DE CARVALHO', 'GP': 'ASDI'}] 23\n",
      "[{'idCadastro': '3261', 'nome': 'Fernando Carvalho', 'GP': 'ASDI'}, {'idCadastro': '3036', 'nome': 'MAGALHÃES MOTA', 'GP': 'ASDI'}, {'idCadastro': '3347', 'nome': 'VILHENA DE CARVALHO', 'GP': 'ASDI'}] 24\n",
      "[{'idCadastro': '3036', 'nome': 'MAGALHÃES MOTA', 'GP': 'ASDI'}, {'idCadastro': '3347', 'nome': 'VILHENA DE CARVALHO', 'GP': 'ASDI'}] 25\n",
      "[{'idCadastro': '1477', 'nome': 'Jaime Ramos', 'GP': 'PSD'}, {'idCadastro': '282', 'nome': 'Cipriano Martins', 'GP': 'PSD'}, {'idCadastro': '3039', 'nome': 'MANUEL FREIXO', 'GP': 'PSD'}] 26\n",
      "[{'idCadastro': '3519', 'nome': 'Fernando Marinho', 'GP': 'PS'}, {'idCadastro': '3520', 'nome': 'Vitor Brás', 'GP': 'PS'}] 27\n",
      "[{'idCadastro': '3176', 'nome': 'ALDA NOGUEIRA', 'GP': 'PCP'}, {'idCadastro': '3135', 'nome': 'Custódio Gingão', 'GP': 'PCP'}, {'idCadastro': '2948', 'nome': 'Carlos Alfredo Brito', 'GP': 'PCP'}, {'idCadastro': '3378', 'nome': 'Georgette Ferreira', 'GP': 'PCP'}] 28\n",
      "[{'idCadastro': '2126', 'nome': 'Zita Seabra', 'GP': 'PCP'}, {'idCadastro': '3617', 'nome': 'José Cabral Pinto', 'GP': 'PCP'}, {'idCadastro': '2948', 'nome': 'Carlos Alfredo Brito', 'GP': 'PCP'}, {'idCadastro': '3225', 'nome': 'Jorge Patrício', 'GP': 'PCP'}, {'idCadastro': '3377', 'nome': 'Álvaro Oliveira', 'GP': 'PCP'}, {'idCadastro': '3176', 'nome': 'ALDA NOGUEIRA', 'GP': 'PCP'}, {'idCadastro': '3020', 'nome': 'JOSÉ MANUEL MENDES', 'GP': 'PCP'}, {'idCadastro': '3379', 'nome': 'António Graça', 'GP': 'PCP'}, {'idCadastro': '3632', 'nome': 'Fernando Sousa Marques', 'GP': 'PCP'}, {'idCadastro': '569', 'nome': 'Ilda Figueiredo', 'GP': 'PCP'}, {'idCadastro': '3191', 'nome': 'Joaquim Miranda', 'GP': 'PCP'}, {'idCadastro': '3372', 'nome': 'Mariana Lanita', 'GP': 'PCP'}, {'idCadastro': '3390', 'nome': 'Carlos Espadinha', 'GP': 'PCP'}, {'idCadastro': '3618', 'nome': 'Josefina Andrade', 'GP': 'PCP'}] 29\n",
      "[{'idCadastro': '1477', 'nome': 'Jaime Ramos', 'GP': 'PSD'}, {'idCadastro': '282', 'nome': 'Cipriano Martins', 'GP': 'PSD'}] 30\n",
      "{'idCadastro': '588', 'nome': 'Freitas do Amaral', 'GP': 'CDS'} 31\n",
      "{'idCadastro': '3043', 'nome': 'Manuel Tito de Morais', 'GP': 'PS'} 32\n",
      "[{'idCadastro': '1349', 'nome': 'António Reis', 'GP': 'PS'}, {'idCadastro': '3538', 'nome': 'Fausto Marques', 'GP': 'PS'}, {'idCadastro': '494', 'nome': 'José Niza', 'GP': 'PS'}] 33\n",
      "[{'idCadastro': '3036', 'nome': 'MAGALHÃES MOTA', 'GP': 'ASDI'}, {'idCadastro': '3347', 'nome': 'VILHENA DE CARVALHO', 'GP': 'ASDI'}, {'idCadastro': '3450', 'nome': 'MANUEL TILMAN', 'GP': 'ASDI'}] 34\n"
     ]
    },
    {
     "ename": "KeyError",
     "evalue": "'iniAutorDeputados'",
     "output_type": "error",
     "traceback": [
      "\u001b[0;31m---------------------------------------------------------------------------\u001b[0m",
      "\u001b[0;31mKeyError\u001b[0m                                  Traceback (most recent call last)",
      "\u001b[0;32m<ipython-input-17-c8227d0849c2>\u001b[0m in \u001b[0;36m<module>\u001b[0;34m()\u001b[0m\n\u001b[0;32m----> 1\u001b[0;31m \u001b[0mtable_init\u001b[0m\u001b[0;34m(\u001b[0m\u001b[0mdata_source\u001b[0m\u001b[0;34m)\u001b[0m\u001b[0;34m.\u001b[0m\u001b[0mtail\u001b[0m\u001b[0;34m(\u001b[0m\u001b[0;34m)\u001b[0m\u001b[0;34m\u001b[0m\u001b[0m\n\u001b[0m",
      "\u001b[0;32m<ipython-input-16-55b52c30d3dd>\u001b[0m in \u001b[0;36mtable_init\u001b[0;34m(source)\u001b[0m\n\u001b[1;32m     16\u001b[0m             \u001b[0minit_type\u001b[0m \u001b[0;34m=\u001b[0m \u001b[0minitiative\u001b[0m\u001b[0;34m[\u001b[0m\u001b[0;34m\"iniDescTipo\"\u001b[0m\u001b[0;34m]\u001b[0m\u001b[0;34m\u001b[0m\u001b[0m\n\u001b[1;32m     17\u001b[0m \u001b[0;34m\u001b[0m\u001b[0m\n\u001b[0;32m---> 18\u001b[0;31m             \u001b[0mauthors\u001b[0m \u001b[0;34m=\u001b[0m \u001b[0minitiative\u001b[0m\u001b[0;34m[\u001b[0m\u001b[0;34m\"iniAutorDeputados\"\u001b[0m\u001b[0;34m]\u001b[0m\u001b[0;34m[\u001b[0m\u001b[0;34m\"pt_gov_ar_objectos_iniciativas_AutoresDeputadosOut\"\u001b[0m\u001b[0;34m]\u001b[0m\u001b[0;34m\u001b[0m\u001b[0m\n\u001b[0m\u001b[1;32m     19\u001b[0m             \u001b[0mprint\u001b[0m\u001b[0;34m(\u001b[0m\u001b[0mauthors\u001b[0m\u001b[0;34m,\u001b[0m \u001b[0mrow\u001b[0m\u001b[0;34m)\u001b[0m\u001b[0;34m\u001b[0m\u001b[0m\n\u001b[1;32m     20\u001b[0m             \u001b[0;32mif\u001b[0m \u001b[0mtype\u001b[0m\u001b[0;34m(\u001b[0m\u001b[0mauthors\u001b[0m\u001b[0;34m)\u001b[0m \u001b[0;34m==\u001b[0m \u001b[0mdict\u001b[0m\u001b[0;34m:\u001b[0m\u001b[0;34m\u001b[0m\u001b[0m\n",
      "\u001b[0;31mKeyError\u001b[0m: 'iniAutorDeputados'"
     ]
    }
   ],
   "source": [
    "table_init(data_source).tail()"
   ]
  },
  {
   "cell_type": "code",
   "execution_count": null,
   "metadata": {},
   "outputs": [],
   "source": []
  }
 ],
 "metadata": {
  "kernelspec": {
   "display_name": "Python 3",
   "language": "python",
   "name": "python3"
  },
  "language_info": {
   "codemirror_mode": {
    "name": "ipython",
    "version": 3
   },
   "file_extension": ".py",
   "mimetype": "text/x-python",
   "name": "python",
   "nbconvert_exporter": "python",
   "pygments_lexer": "ipython3",
   "version": "3.6.3"
  }
 },
 "nbformat": 4,
 "nbformat_minor": 2
}
