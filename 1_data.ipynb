{
 "cells": [
  {
   "cell_type": "markdown",
   "metadata": {},
   "source": [
    "> __CHANGE IF NEED BE__"
   ]
  },
  {
   "cell_type": "code",
   "execution_count": 1,
   "metadata": {},
   "outputs": [],
   "source": [
    "data_source = \"/home/boturon/proj/git/parlamento/data/\"\n",
    "parliament_count = [\"02\", \"03\", \"04\", \"05\", \"06\", \"07\", \"08\", \"09\", \"10\", \"11\", \"12\", \"13\"]"
   ]
  },
  {
   "cell_type": "markdown",
   "metadata": {},
   "source": [
    "________"
   ]
  },
  {
   "cell_type": "markdown",
   "metadata": {},
   "source": [
    "__ Dependencies __"
   ]
  },
  {
   "cell_type": "code",
   "execution_count": 2,
   "metadata": {},
   "outputs": [],
   "source": [
    "import pandas as pd\n",
    "import json"
   ]
  },
  {
   "cell_type": "markdown",
   "metadata": {},
   "source": [
    "<br>"
   ]
  },
  {
   "cell_type": "markdown",
   "metadata": {},
   "source": [
    "# Biographic Information"
   ]
  },
  {
   "cell_type": "markdown",
   "metadata": {},
   "source": [
    "__ Variables __"
   ]
  },
  {
   "cell_type": "code",
   "execution_count": 9,
   "metadata": {},
   "outputs": [],
   "source": [
    "col_names_label_bio = [\"id\", \"name\", \"gender\", \"profession_law\", \"legislatures_count\", \"legislatures_last\", \"party_last\", \"district_last\"]"
   ]
  },
  {
   "cell_type": "markdown",
   "metadata": {},
   "source": [
    "__ Functions __"
   ]
  },
  {
   "cell_type": "code",
   "execution_count": 11,
   "metadata": {},
   "outputs": [],
   "source": [
    "def table_bio(source):\n",
    "    # create DataFrame for parlamentarians\n",
    "    df_bio = pd.DataFrame(index = col_names_label_bio)\n",
    "    \n",
    "    # start index\n",
    "    row = 0\n",
    "    \n",
    "    for count in parliament_count:\n",
    "        # open file\n",
    "        data_parlamentarians = json.loads(open(source+\"registo-biografico-\"+count+\".json\").read())\n",
    "        \n",
    "        for parlamentarian in data_parlamentarians[\"RegistoBiografico\"][\"RegistoBiograficoList\"][\"pt_ar_wsgode_objectos_DadosRegistoBiograficoWeb\"]:\n",
    "            # index\n",
    "            row += 1\n",
    "            \n",
    "            # get data for each label\n",
    "            parlamentarian_id = parlamentarian[\"cadId\"]\n",
    "            parlamentarian_name = parlamentarian[\"cadNomeCompleto\"]\n",
    "            parlamentarian_gender = parlamentarian[\"cadSexo\"]\n",
    "            \n",
    "            # dummy for law related jobs\n",
    "            if  parlamentarian.get(\"cadProfissao\", \"None\").lower() in [\"jurista\", \"advogado\", \"advogada\"]:\n",
    "                parlamentarian_profession_law = 1\n",
    "            else:\n",
    "                parlamentarian_profession_law = 0\n",
    "            \n",
    "            legislatures = parlamentarian[\"cadDeputadoLegis\"][\"pt_ar_wsgode_objectos_DadosDeputadoLegis\"]\n",
    "            \n",
    "            # deal with one-time parlamentarians\n",
    "            if type(legislatures) == dict:\n",
    "                legislatures_count = 1\n",
    "                legislatures_last = legislatures[\"legDes\"]\n",
    "                party_last = legislatures[\"gpSigla\"]\n",
    "                district_last = legislatures[\"ceDes\"]\n",
    "            else:\n",
    "                legislatures_count = len(legislatures)\n",
    "                legislatures_last = legislatures[0][\"legDes\"]\n",
    "                party_last = legislatures[0][\"gpSigla\"]\n",
    "                district_last = legislatures[0][\"ceDes\"]\n",
    "                \n",
    "            # add parlamentarian information to table\n",
    "            df_bio[row] = [parlamentarian_id, parlamentarian_name, parlamentarian_gender, parlamentarian_profession_law, legislatures_count, legislatures_last, party_last, district_last]\n",
    "    \n",
    "    return(df_bio.transpose())"
   ]
  },
  {
   "cell_type": "markdown",
   "metadata": {},
   "source": [
    "__ Output __"
   ]
  },
  {
   "cell_type": "code",
   "execution_count": 12,
   "metadata": {
    "scrolled": true
   },
   "outputs": [
    {
     "data": {
      "text/html": [
       "<div>\n",
       "<style scoped>\n",
       "    .dataframe tbody tr th:only-of-type {\n",
       "        vertical-align: middle;\n",
       "    }\n",
       "\n",
       "    .dataframe tbody tr th {\n",
       "        vertical-align: top;\n",
       "    }\n",
       "\n",
       "    .dataframe thead th {\n",
       "        text-align: right;\n",
       "    }\n",
       "</style>\n",
       "<table border=\"1\" class=\"dataframe\">\n",
       "  <thead>\n",
       "    <tr style=\"text-align: right;\">\n",
       "      <th></th>\n",
       "      <th>id</th>\n",
       "      <th>name</th>\n",
       "      <th>gender</th>\n",
       "      <th>profession_law</th>\n",
       "      <th>legislatures_count</th>\n",
       "      <th>legislatures_last</th>\n",
       "      <th>party_last</th>\n",
       "      <th>district_last</th>\n",
       "    </tr>\n",
       "  </thead>\n",
       "  <tbody>\n",
       "    <tr>\n",
       "      <th>4362</th>\n",
       "      <td>1743</td>\n",
       "      <td>ULISSES MANUEL BRANDÃO PEREIRA</td>\n",
       "      <td>M</td>\n",
       "      <td>0</td>\n",
       "      <td>3</td>\n",
       "      <td>XIII</td>\n",
       "      <td>PSD</td>\n",
       "      <td>AVEIRO</td>\n",
       "    </tr>\n",
       "    <tr>\n",
       "      <th>4363</th>\n",
       "      <td>4402</td>\n",
       "      <td>VÂNIA CARVALHO DIAS DA SILVA DE ANTAS DE BARROS</td>\n",
       "      <td>F</td>\n",
       "      <td>0</td>\n",
       "      <td>1</td>\n",
       "      <td>XIII</td>\n",
       "      <td>CDS-PP</td>\n",
       "      <td>BRAGA</td>\n",
       "    </tr>\n",
       "    <tr>\n",
       "      <th>4364</th>\n",
       "      <td>1867</td>\n",
       "      <td>JOSÉ ANTÓNIO FONSECA VIEIRA DA SILVA</td>\n",
       "      <td>M</td>\n",
       "      <td>0</td>\n",
       "      <td>4</td>\n",
       "      <td>XIII</td>\n",
       "      <td>PS</td>\n",
       "      <td>SANTARÉM</td>\n",
       "    </tr>\n",
       "    <tr>\n",
       "      <th>4365</th>\n",
       "      <td>1700</td>\n",
       "      <td>VITALINO JOSÉ FERREIRA PROVA CANAS</td>\n",
       "      <td>M</td>\n",
       "      <td>0</td>\n",
       "      <td>5</td>\n",
       "      <td>XIII</td>\n",
       "      <td>PS</td>\n",
       "      <td>LISBOA</td>\n",
       "    </tr>\n",
       "    <tr>\n",
       "      <th>4366</th>\n",
       "      <td>466</td>\n",
       "      <td>WANDA OLAVO CORREA D'AZEVEDO GUIMARÃES</td>\n",
       "      <td>F</td>\n",
       "      <td>0</td>\n",
       "      <td>1</td>\n",
       "      <td>XIII</td>\n",
       "      <td>PS</td>\n",
       "      <td>LISBOA</td>\n",
       "    </tr>\n",
       "  </tbody>\n",
       "</table>\n",
       "</div>"
      ],
      "text/plain": [
       "        id                                             name gender  \\\n",
       "4362  1743                   ULISSES MANUEL BRANDÃO PEREIRA      M   \n",
       "4363  4402  VÂNIA CARVALHO DIAS DA SILVA DE ANTAS DE BARROS      F   \n",
       "4364  1867             JOSÉ ANTÓNIO FONSECA VIEIRA DA SILVA      M   \n",
       "4365  1700               VITALINO JOSÉ FERREIRA PROVA CANAS      M   \n",
       "4366   466           WANDA OLAVO CORREA D'AZEVEDO GUIMARÃES      F   \n",
       "\n",
       "     profession_law legislatures_count legislatures_last party_last  \\\n",
       "4362              0                  3              XIII        PSD   \n",
       "4363              0                  1              XIII     CDS-PP   \n",
       "4364              0                  4              XIII         PS   \n",
       "4365              0                  5              XIII         PS   \n",
       "4366              0                  1              XIII         PS   \n",
       "\n",
       "     district_last  \n",
       "4362        AVEIRO  \n",
       "4363         BRAGA  \n",
       "4364      SANTARÉM  \n",
       "4365        LISBOA  \n",
       "4366        LISBOA  "
      ]
     },
     "execution_count": 12,
     "metadata": {},
     "output_type": "execute_result"
    }
   ],
   "source": [
    "table_bio(data_source).tail()"
   ]
  },
  {
   "cell_type": "markdown",
   "metadata": {},
   "source": [
    "________"
   ]
  },
  {
   "cell_type": "markdown",
   "metadata": {},
   "source": [
    "# Initiatives"
   ]
  },
  {
   "cell_type": "markdown",
   "metadata": {},
   "source": [
    "__ Variables __"
   ]
  },
  {
   "cell_type": "code",
   "execution_count": 57,
   "metadata": {},
   "outputs": [],
   "source": [
    "col_names_label_init = [\"init_id\", \"init_year_end\", \"init_type\"]#, \"authors_count\"]"
   ]
  },
  {
   "cell_type": "markdown",
   "metadata": {},
   "source": [
    "__ Functions __"
   ]
  },
  {
   "cell_type": "code",
   "execution_count": 64,
   "metadata": {},
   "outputs": [],
   "source": [
    "def table_init(source):\n",
    "    # create DataFrame for parlamentarians\n",
    "    df_init = pd.DataFrame(index = col_names_label_init)\n",
    "    \n",
    "    # start index\n",
    "    row = 0\n",
    "    \n",
    "    for count in parliament_count:\n",
    "        # open file\n",
    "        data_initiatives = json.loads(open(source+\"iniciativas-\"+count+\".json\").read())\n",
    "            \n",
    "        for initiative in data_initiatives[\"ArrayOfPt_gov_ar_objectos_iniciativas_DetalhePesquisaIniciativasOut\"][\"pt_gov_ar_objectos_iniciativas_DetalhePesquisaIniciativasOut\"]:\n",
    "                              \n",
    "            # get data for each label\n",
    "            init_id = initiative[\"iniId\"]\n",
    "            init_type = initiative[\"iniDescTipo\"]\n",
    "            \n",
    "            #authors = initiative[\"iniAutorDeputados\"][\"pt_gov_ar_objectos_iniciativas_AutoresDeputadosOut\"]\n",
    "            #print(authors)\n",
    "            #if type(authors) == dict:\n",
    "            #    authors_count = 1\n",
    "            #else:\n",
    "            #    authors_count = len(authors)\n",
    "                \n",
    "            # only add if initiative is finished\n",
    "            try:\n",
    "                # index\n",
    "                row += 1\n",
    "                # Final year\n",
    "                init_year_end = int(initiative[\"dataFimleg\"][0:4])\n",
    "                # add parlamentarian information to table\n",
    "                df_init[row] = [init_id, init_year_end, init_type]#, authors_count]\n",
    "            except KeyError:\n",
    "                continue\n",
    "                        \n",
    "    return(df_init.transpose())"
   ]
  },
  {
   "cell_type": "markdown",
   "metadata": {},
   "source": [
    "__ Output __"
   ]
  },
  {
   "cell_type": "code",
   "execution_count": 65,
   "metadata": {
    "scrolled": true
   },
   "outputs": [],
   "source": [
    "food_for_ze = table_init(data_source).tail()"
   ]
  },
  {
   "cell_type": "code",
   "execution_count": 66,
   "metadata": {},
   "outputs": [],
   "source": [
    "food_for_ze.to_csv('./food_for_ze.csv')"
   ]
  },
  {
   "cell_type": "code",
   "execution_count": null,
   "metadata": {},
   "outputs": [],
   "source": []
  }
 ],
 "metadata": {
  "kernelspec": {
   "display_name": "Python 3",
   "language": "python",
   "name": "python3"
  },
  "language_info": {
   "codemirror_mode": {
    "name": "ipython",
    "version": 3
   },
   "file_extension": ".py",
   "mimetype": "text/x-python",
   "name": "python",
   "nbconvert_exporter": "python",
   "pygments_lexer": "ipython3",
   "version": "3.6.3"
  }
 },
 "nbformat": 4,
 "nbformat_minor": 2
}
